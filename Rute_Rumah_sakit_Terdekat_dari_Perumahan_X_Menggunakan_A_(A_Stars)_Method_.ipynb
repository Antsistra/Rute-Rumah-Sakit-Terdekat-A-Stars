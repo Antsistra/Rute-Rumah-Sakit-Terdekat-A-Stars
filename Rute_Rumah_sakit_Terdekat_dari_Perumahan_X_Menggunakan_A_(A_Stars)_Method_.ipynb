{
  "nbformat": 4,
  "nbformat_minor": 0,
  "metadata": {
    "colab": {
      "provenance": [],
      "authorship_tag": "ABX9TyNqz1V9eSfgpz4s+ZUPChkP",
      "include_colab_link": true
    },
    "kernelspec": {
      "name": "python3",
      "display_name": "Python 3"
    },
    "language_info": {
      "name": "python"
    }
  },
  "cells": [
    {
      "cell_type": "markdown",
      "metadata": {
        "id": "view-in-github",
        "colab_type": "text"
      },
      "source": [
        "<a href=\"https://colab.research.google.com/github/Antsistra/Rute-Rumah-Sakit-Terdekat-A-Stars/blob/main/Rute_Rumah_sakit_Terdekat_dari_Perumahan_X_Menggunakan_A_(A_Stars)_Method_.ipynb\" target=\"_parent\"><img src=\"https://colab.research.google.com/assets/colab-badge.svg\" alt=\"Open In Colab\"/></a>"
      ]
    },
    {
      "cell_type": "markdown",
      "source": [
        "Importing Library and Packages"
      ],
      "metadata": {
        "id": "Ouz2zqKVs32X"
      }
    },
    {
      "cell_type": "code",
      "source": [
        "import folium as fl\n",
        "import pandas as pd\n",
        "import numpy as np"
      ],
      "metadata": {
        "id": "ZZNXqk8sty3T"
      },
      "execution_count": 45,
      "outputs": []
    },
    {
      "cell_type": "markdown",
      "source": [
        "Generate Dataset"
      ],
      "metadata": {
        "id": "l7WG9OIkrnmZ"
      }
    },
    {
      "cell_type": "code",
      "execution_count": 46,
      "metadata": {
        "id": "oyK4taxhrmrn"
      },
      "outputs": [],
      "source": [
        "data = {\n",
        "    \"No\": [1, 2, 3, 4, 5, 6, 7, 8, 9, 10, 11],\n",
        "    \"Titik\": [\"A\", \"B\", \"C\", \"D\", \"E\", \"F\", \"G\", \"H\", \"I\", \"J\", \"K\"],\n",
        "    \"Lokasi\": [\n",
        "        \"Citraland\", \"Jl Raya Sepang\", \"Jl Ciracas\", \"Jl Kolonel Tubagus Suwandi\",\n",
        "        \"Jl Veteran\", \"Jl Kh Abdul Hadi\", \"Jl Kejaksaan I\", \"Jl Kh Sochan\",\n",
        "        \"Jl Kh abdul fatah hasan\", \"Jl Jend Sudirman\", \"Rs Sari Asih Serang\"\n",
        "    ],\n",
        "    \"Koordinat\": [\n",
        "        \"-6.131067, 106.132513\", \"-6.133913, 106.134790\", \"-6.127008, 106.144934\",\n",
        "        \"-6.127864, 106.146556\", \"-6.116890, 106.153907\", \"-6.125760, 106.159867\",\n",
        "        \"-6.123619, 106.156434\", \"-6.122556, 106.164502\", \"-6.124513, 106.171925\",\n",
        "        \"-6.120478, 106.173673\", \"-6.118677, 106.181270\"\n",
        "    ]\n",
        "}\n",
        "\n",
        "data['X'] = [float(coord.split(\", \")[0]) for coord in data['Koordinat']]\n",
        "data['Y'] = [float(coord.split(\", \")[1]) for coord in data['Koordinat']]\n",
        "\n",
        "df = pd.DataFrame(data)\n",
        "\n",
        "df.to_csv(\"dataset/koordinat.csv\", index=False)\n"
      ]
    },
    {
      "cell_type": "markdown",
      "source": [
        "Mengecek Hasil Dataset"
      ],
      "metadata": {
        "id": "vmZT10Tkr-uG"
      }
    },
    {
      "cell_type": "code",
      "source": [
        "dataset = pd.read_csv('dataset/koordinat.csv')\n",
        "dataset"
      ],
      "metadata": {
        "id": "YM3ALAcZsQA1"
      },
      "execution_count": null,
      "outputs": []
    },
    {
      "cell_type": "markdown",
      "source": [
        "Showing Maps and Legends"
      ],
      "metadata": {
        "id": "p314y1K_uqae"
      }
    },
    {
      "cell_type": "code",
      "source": [
        "\n",
        "_map = fl.Map(location=[-6.1236296, 106.1556118], zoom_start=14)\n",
        "\n",
        "\n",
        "for index, row in dataset.iterrows():\n",
        "    fl.Marker(\n",
        "        location=[row['X'], row['Y']],\n",
        "        popup=row['Lokasi'],\n",
        "        tooltip=row['Titik'],\n",
        "    ).add_to(_map)\n",
        "    fl.Marker(location=[-6.131067,106.132513], icon=fl.Icon(color='green',icon='home',prefix='fa')).add_to(_map)\n",
        "    fl.Marker(location=[-6.118677,106.181270], icon=fl.Icon(color='red',icon='plus-square',prefix='fa')).add_to(_map)\n",
        "\n",
        "_map\n"
      ],
      "metadata": {
        "id": "SoxHwXuKuzZM"
      },
      "execution_count": null,
      "outputs": []
    },
    {
      "cell_type": "markdown",
      "source": [
        "Implementasi Perhitungan Ecludean untuk menentukan H(n)\n"
      ],
      "metadata": {
        "id": "NswAFWeNzrX3"
      }
    },
    {
      "cell_type": "code",
      "source": [
        "\n",
        "\n",
        "file_path = 'dataset/koordinat.csv'\n",
        "data = pd.read_csv(file_path)\n",
        "\n",
        "pairs = ['AB', 'BC', 'BD', 'CE', 'DF', 'EG', 'EJ', 'FG', 'FH', 'FI', 'HJ', 'IJ', 'JK']\n",
        "\n",
        "coordinates = {row['Titik']: (row['X'], row['Y']) for _, row in data.iterrows()}\n",
        "\n",
        "def euclidean_distance(point1, point2):\n",
        "    x1, y1 = coordinates[point1]\n",
        "    x2, y2 = coordinates[point2]\n",
        "    return np.sqrt((x2 - x1)**2 + (y2 - y1)**2)\n",
        "\n",
        "distances = []\n",
        "for pair in pairs:\n",
        "    point1, point2 = pair[0], pair[1]\n",
        "    distance = euclidean_distance(point1, point2)\n",
        "    distances.append((pair, distance))\n",
        "\n",
        "results_df = pd.DataFrame(distances, columns=['Titik', 'nilai_heuristic'])\n",
        "\n",
        "results_df.to_csv('dataset/heuristic.csv', index=False)\n"
      ],
      "metadata": {
        "id": "LqlctZm21uB2"
      },
      "execution_count": 48,
      "outputs": []
    },
    {
      "cell_type": "markdown",
      "source": [
        "Nilai H(n)"
      ],
      "metadata": {
        "id": "rvEmEN0M17UH"
      }
    },
    {
      "cell_type": "code",
      "source": [
        "dataset = pd.read_csv('dataset/nilai_heuristic.csv')\n",
        "dataset"
      ],
      "metadata": {
        "id": "oo3RXdgo19x5"
      },
      "execution_count": null,
      "outputs": []
    }
  ]
}